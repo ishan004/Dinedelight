{
 "cells": [
  {
   "cell_type": "code",
   "execution_count": 93,
   "id": "2978e019",
   "metadata": {},
   "outputs": [],
   "source": [
    "import numpy as np\n",
    "import pandas as pd"
   ]
  },
  {
   "cell_type": "code",
   "execution_count": 94,
   "id": "8f49f38c",
   "metadata": {},
   "outputs": [],
   "source": [
    "chitwan = pd.read_csv('chitwan.csv')"
   ]
  },
  {
   "cell_type": "code",
   "execution_count": 95,
   "id": "00fe70e2",
   "metadata": {},
   "outputs": [
    {
     "data": {
      "text/html": [
       "<div>\n",
       "<style scoped>\n",
       "    .dataframe tbody tr th:only-of-type {\n",
       "        vertical-align: middle;\n",
       "    }\n",
       "\n",
       "    .dataframe tbody tr th {\n",
       "        vertical-align: top;\n",
       "    }\n",
       "\n",
       "    .dataframe thead th {\n",
       "        text-align: right;\n",
       "    }\n",
       "</style>\n",
       "<table border=\"1\" class=\"dataframe\">\n",
       "  <thead>\n",
       "    <tr style=\"text-align: right;\">\n",
       "      <th></th>\n",
       "      <th>URL</th>\n",
       "      <th>Title</th>\n",
       "      <th>Rating</th>\n",
       "      <th>Totalratings</th>\n",
       "      <th>RestaurantType</th>\n",
       "      <th>location</th>\n",
       "      <th>OpeningHours</th>\n",
       "      <th>ClosingHours</th>\n",
       "      <th>ImageURL</th>\n",
       "      <th>diningService</th>\n",
       "      <th>DiningService2</th>\n",
       "      <th>DeliveryService</th>\n",
       "    </tr>\n",
       "  </thead>\n",
       "  <tbody>\n",
       "    <tr>\n",
       "      <th>0</th>\n",
       "      <td>https://www.google.com/maps/place/KC%27s+Resta...</td>\n",
       "      <td>KC's Restaurant &amp; Bar</td>\n",
       "      <td>4.2</td>\n",
       "      <td>543</td>\n",
       "      <td>Restaurant</td>\n",
       "      <td>RHINO STATUE</td>\n",
       "      <td>Opens 7AM</td>\n",
       "      <td>Closes 10PM</td>\n",
       "      <td>https://lh5.googleusercontent.com/p/AF1QipNUxs...</td>\n",
       "      <td>Dine-in</td>\n",
       "      <td>Takeaway</td>\n",
       "      <td>Delivery</td>\n",
       "    </tr>\n",
       "  </tbody>\n",
       "</table>\n",
       "</div>"
      ],
      "text/plain": [
       "                                                 URL                  Title  \\\n",
       "0  https://www.google.com/maps/place/KC%27s+Resta...  KC's Restaurant & Bar   \n",
       "\n",
       "   Rating  Totalratings RestaurantType      location OpeningHours  \\\n",
       "0     4.2           543     Restaurant  RHINO STATUE   Opens 7AM    \n",
       "\n",
       "   ClosingHours                                           ImageURL  \\\n",
       "0   Closes 10PM  https://lh5.googleusercontent.com/p/AF1QipNUxs...   \n",
       "\n",
       "  diningService DiningService2 DeliveryService  \n",
       "0       Dine-in       Takeaway        Delivery  "
      ]
     },
     "execution_count": 95,
     "metadata": {},
     "output_type": "execute_result"
    }
   ],
   "source": [
    "chitwan.head(1)"
   ]
  },
  {
   "cell_type": "code",
   "execution_count": 96,
   "id": "ecfadd66",
   "metadata": {},
   "outputs": [
    {
     "name": "stdout",
     "output_type": "stream",
     "text": [
      "(120, 12)\n"
     ]
    }
   ],
   "source": [
    "print(chitwan.shape)"
   ]
  },
  {
   "cell_type": "code",
   "execution_count": 97,
   "id": "69511dcc",
   "metadata": {},
   "outputs": [
    {
     "name": "stdout",
     "output_type": "stream",
     "text": [
      "<class 'pandas.core.frame.DataFrame'>\n",
      "RangeIndex: 120 entries, 0 to 119\n",
      "Data columns (total 12 columns):\n",
      " #   Column           Non-Null Count  Dtype  \n",
      "---  ------           --------------  -----  \n",
      " 0   URL              120 non-null    object \n",
      " 1   Title            120 non-null    object \n",
      " 2   Rating           120 non-null    float64\n",
      " 3   Totalratings     120 non-null    int64  \n",
      " 4   RestaurantType   120 non-null    object \n",
      " 5   location         105 non-null    object \n",
      " 6   OpeningHours     120 non-null    object \n",
      " 7   ClosingHours     120 non-null    object \n",
      " 8   ImageURL         120 non-null    object \n",
      " 9   diningService    120 non-null    object \n",
      " 10  DiningService2   120 non-null    object \n",
      " 11  DeliveryService  120 non-null    object \n",
      "dtypes: float64(1), int64(1), object(10)\n",
      "memory usage: 11.4+ KB\n"
     ]
    }
   ],
   "source": [
    "chitwan.info()"
   ]
  },
  {
   "cell_type": "code",
   "execution_count": 98,
   "id": "079791da",
   "metadata": {},
   "outputs": [],
   "source": [
    "chitwan.dropna(inplace=True)"
   ]
  },
  {
   "cell_type": "code",
   "execution_count": 99,
   "id": "af2948b3",
   "metadata": {},
   "outputs": [
    {
     "name": "stdout",
     "output_type": "stream",
     "text": [
      "(105, 12)\n"
     ]
    }
   ],
   "source": [
    "print(chitwan.shape)"
   ]
  },
  {
   "cell_type": "code",
   "execution_count": 100,
   "id": "5c7d64ed",
   "metadata": {},
   "outputs": [
    {
     "data": {
      "text/plain": [
       "URL                0\n",
       "Title              0\n",
       "Rating             0\n",
       "Totalratings       0\n",
       "RestaurantType     0\n",
       "location           0\n",
       "OpeningHours       0\n",
       "ClosingHours       0\n",
       "ImageURL           0\n",
       "diningService      0\n",
       "DiningService2     0\n",
       "DeliveryService    0\n",
       "dtype: int64"
      ]
     },
     "execution_count": 100,
     "metadata": {},
     "output_type": "execute_result"
    }
   ],
   "source": [
    "chitwan.isnull().sum()"
   ]
  },
  {
   "cell_type": "code",
   "execution_count": 101,
   "id": "a76a84b3",
   "metadata": {},
   "outputs": [
    {
     "data": {
      "text/plain": [
       "0"
      ]
     },
     "execution_count": 101,
     "metadata": {},
     "output_type": "execute_result"
    }
   ],
   "source": [
    "chitwan.duplicated().sum()"
   ]
  },
  {
   "cell_type": "code",
   "execution_count": 102,
   "id": "1f406b09",
   "metadata": {},
   "outputs": [
    {
     "data": {
      "text/plain": [
       "\"KC's Restaurant & Bar\""
      ]
     },
     "execution_count": 102,
     "metadata": {},
     "output_type": "execute_result"
    }
   ],
   "source": [
    "chitwan.iloc[0].Title"
   ]
  },
  {
   "cell_type": "code",
   "execution_count": 104,
   "id": "8ad654c4",
   "metadata": {},
   "outputs": [],
   "source": [
    "chitwan= chitwan[['Title','Rating', 'Totalratings', 'RestaurantType','location']]\n"
   ]
  },
  {
   "cell_type": "code",
   "execution_count": 108,
   "id": "e37c4638",
   "metadata": {},
   "outputs": [
    {
     "name": "stdout",
     "output_type": "stream",
     "text": [
      "<class 'pandas.core.frame.DataFrame'>\n",
      "Int64Index: 105 entries, 0 to 119\n",
      "Data columns (total 5 columns):\n",
      " #   Column          Non-Null Count  Dtype  \n",
      "---  ------          --------------  -----  \n",
      " 0   Title           105 non-null    object \n",
      " 1   Rating          105 non-null    float64\n",
      " 2   Totalratings    105 non-null    int64  \n",
      " 3   RestaurantType  105 non-null    object \n",
      " 4   location        105 non-null    object \n",
      "dtypes: float64(1), int64(1), object(3)\n",
      "memory usage: 4.9+ KB\n"
     ]
    }
   ],
   "source": [
    "chitwan.info()"
   ]
  },
  {
   "cell_type": "code",
   "execution_count": 123,
   "id": "4a15d5e6",
   "metadata": {},
   "outputs": [
    {
     "data": {
      "text/html": [
       "<div>\n",
       "<style scoped>\n",
       "    .dataframe tbody tr th:only-of-type {\n",
       "        vertical-align: middle;\n",
       "    }\n",
       "\n",
       "    .dataframe tbody tr th {\n",
       "        vertical-align: top;\n",
       "    }\n",
       "\n",
       "    .dataframe thead th {\n",
       "        text-align: right;\n",
       "    }\n",
       "</style>\n",
       "<table border=\"1\" class=\"dataframe\">\n",
       "  <thead>\n",
       "    <tr style=\"text-align: right;\">\n",
       "      <th></th>\n",
       "      <th>Title</th>\n",
       "      <th>Rating</th>\n",
       "      <th>Totalratings</th>\n",
       "      <th>RestaurantType</th>\n",
       "      <th>location</th>\n",
       "    </tr>\n",
       "  </thead>\n",
       "  <tbody>\n",
       "    <tr>\n",
       "      <th>0</th>\n",
       "      <td>KC's Restaurant &amp; Bar</td>\n",
       "      <td>4.2</td>\n",
       "      <td>543</td>\n",
       "      <td>Restaurant</td>\n",
       "      <td>RHINO STATUE</td>\n",
       "    </tr>\n",
       "    <tr>\n",
       "      <th>1</th>\n",
       "      <td>Option Restaurant</td>\n",
       "      <td>4.0</td>\n",
       "      <td>31</td>\n",
       "      <td>Grill</td>\n",
       "      <td>HFMV+4P6</td>\n",
       "    </tr>\n",
       "    <tr>\n",
       "      <th>3</th>\n",
       "      <td>Bhanchha (The Newari Taste You Desire)</td>\n",
       "      <td>4.3</td>\n",
       "      <td>23</td>\n",
       "      <td>Restaurant</td>\n",
       "      <td>JH69+MJM, Parsa,Chitwan</td>\n",
       "    </tr>\n",
       "    <tr>\n",
       "      <th>4</th>\n",
       "      <td>Park View Restaurant and Food Delivery service...</td>\n",
       "      <td>4.6</td>\n",
       "      <td>8</td>\n",
       "      <td>Restaurant</td>\n",
       "      <td>Ratnanagar-06, Nikunja Chok</td>\n",
       "    </tr>\n",
       "    <tr>\n",
       "      <th>5</th>\n",
       "      <td>Famous Restaurant</td>\n",
       "      <td>4.3</td>\n",
       "      <td>17</td>\n",
       "      <td>Restaurant</td>\n",
       "      <td>HFGW+PC9</td>\n",
       "    </tr>\n",
       "  </tbody>\n",
       "</table>\n",
       "</div>"
      ],
      "text/plain": [
       "                                               Title  Rating  Totalratings  \\\n",
       "0                              KC's Restaurant & Bar     4.2           543   \n",
       "1                                  Option Restaurant     4.0            31   \n",
       "3             Bhanchha (The Newari Taste You Desire)     4.3            23   \n",
       "4  Park View Restaurant and Food Delivery service...     4.6             8   \n",
       "5                                  Famous Restaurant     4.3            17   \n",
       "\n",
       "  RestaurantType                     location  \n",
       "0     Restaurant                 RHINO STATUE  \n",
       "1          Grill                     HFMV+4P6  \n",
       "3     Restaurant      JH69+MJM, Parsa,Chitwan  \n",
       "4     Restaurant  Ratnanagar-06, Nikunja Chok  \n",
       "5     Restaurant                     HFGW+PC9  "
      ]
     },
     "execution_count": 123,
     "metadata": {},
     "output_type": "execute_result"
    }
   ],
   "source": [
    "chitwan.head()\n"
   ]
  },
  {
   "cell_type": "markdown",
   "id": "62de3b40",
   "metadata": {},
   "source": [
    "\n",
    "# Collaborative filtering based \n"
   ]
  },
  {
   "cell_type": "code",
   "execution_count": 132,
   "id": "fcc7d43d",
   "metadata": {},
   "outputs": [],
   "source": [
    "import pandas as pd\n",
    "from sklearn.feature_extraction.text import TfidfVectorizer\n",
    "from sklearn.metrics.pairwise import linear_kernel\n"
   ]
  },
  {
   "cell_type": "code",
   "execution_count": 134,
   "id": "f14d0107",
   "metadata": {},
   "outputs": [],
   "source": [
    "df = chitwan"
   ]
  },
  {
   "cell_type": "code",
   "execution_count": 137,
   "id": "f9388eb3",
   "metadata": {},
   "outputs": [
    {
     "ename": "KeyError",
     "evalue": "0",
     "output_type": "error",
     "traceback": [
      "\u001b[1;31m---------------------------------------------------------------------------\u001b[0m",
      "\u001b[1;31mKeyError\u001b[0m                                  Traceback (most recent call last)",
      "File \u001b[1;32m~\\AppData\\Local\\Programs\\Python\\Python311\\Lib\\site-packages\\pandas\\core\\indexes\\base.py:3802\u001b[0m, in \u001b[0;36mIndex.get_loc\u001b[1;34m(self, key, method, tolerance)\u001b[0m\n\u001b[0;32m   3801\u001b[0m \u001b[38;5;28;01mtry\u001b[39;00m:\n\u001b[1;32m-> 3802\u001b[0m     \u001b[38;5;28;01mreturn\u001b[39;00m \u001b[38;5;28;43mself\u001b[39;49m\u001b[38;5;241;43m.\u001b[39;49m\u001b[43m_engine\u001b[49m\u001b[38;5;241;43m.\u001b[39;49m\u001b[43mget_loc\u001b[49m\u001b[43m(\u001b[49m\u001b[43mcasted_key\u001b[49m\u001b[43m)\u001b[49m\n\u001b[0;32m   3803\u001b[0m \u001b[38;5;28;01mexcept\u001b[39;00m \u001b[38;5;167;01mKeyError\u001b[39;00m \u001b[38;5;28;01mas\u001b[39;00m err:\n",
      "File \u001b[1;32m~\\AppData\\Local\\Programs\\Python\\Python311\\Lib\\site-packages\\pandas\\_libs\\index.pyx:138\u001b[0m, in \u001b[0;36mpandas._libs.index.IndexEngine.get_loc\u001b[1;34m()\u001b[0m\n",
      "File \u001b[1;32m~\\AppData\\Local\\Programs\\Python\\Python311\\Lib\\site-packages\\pandas\\_libs\\index.pyx:165\u001b[0m, in \u001b[0;36mpandas._libs.index.IndexEngine.get_loc\u001b[1;34m()\u001b[0m\n",
      "File \u001b[1;32mpandas\\_libs\\hashtable_class_helper.pxi:5745\u001b[0m, in \u001b[0;36mpandas._libs.hashtable.PyObjectHashTable.get_item\u001b[1;34m()\u001b[0m\n",
      "File \u001b[1;32mpandas\\_libs\\hashtable_class_helper.pxi:5753\u001b[0m, in \u001b[0;36mpandas._libs.hashtable.PyObjectHashTable.get_item\u001b[1;34m()\u001b[0m\n",
      "\u001b[1;31mKeyError\u001b[0m: 0",
      "\nThe above exception was the direct cause of the following exception:\n",
      "\u001b[1;31mKeyError\u001b[0m                                  Traceback (most recent call last)",
      "Cell \u001b[1;32mIn[137], line 21\u001b[0m\n\u001b[0;32m     18\u001b[0m     \u001b[38;5;28;01mreturn\u001b[39;00m df[\u001b[38;5;124m'\u001b[39m\u001b[38;5;124mTitle\u001b[39m\u001b[38;5;124m'\u001b[39m]\u001b[38;5;241m.\u001b[39miloc[item_indices]\n\u001b[0;32m     20\u001b[0m \u001b[38;5;66;03m# Get recommendations for a specific item\u001b[39;00m\n\u001b[1;32m---> 21\u001b[0m item_name \u001b[38;5;241m=\u001b[39m \u001b[43mchitwan\u001b[49m\u001b[43m[\u001b[49m\u001b[38;5;241;43m0\u001b[39;49m\u001b[43m]\u001b[49m\n\u001b[0;32m     22\u001b[0m recommendations \u001b[38;5;241m=\u001b[39m get_item_recommendations(item_name)\n\u001b[0;32m     23\u001b[0m \u001b[38;5;28mprint\u001b[39m(recommendations)\n",
      "File \u001b[1;32m~\\AppData\\Local\\Programs\\Python\\Python311\\Lib\\site-packages\\pandas\\core\\frame.py:3807\u001b[0m, in \u001b[0;36mDataFrame.__getitem__\u001b[1;34m(self, key)\u001b[0m\n\u001b[0;32m   3805\u001b[0m \u001b[38;5;28;01mif\u001b[39;00m \u001b[38;5;28mself\u001b[39m\u001b[38;5;241m.\u001b[39mcolumns\u001b[38;5;241m.\u001b[39mnlevels \u001b[38;5;241m>\u001b[39m \u001b[38;5;241m1\u001b[39m:\n\u001b[0;32m   3806\u001b[0m     \u001b[38;5;28;01mreturn\u001b[39;00m \u001b[38;5;28mself\u001b[39m\u001b[38;5;241m.\u001b[39m_getitem_multilevel(key)\n\u001b[1;32m-> 3807\u001b[0m indexer \u001b[38;5;241m=\u001b[39m \u001b[38;5;28;43mself\u001b[39;49m\u001b[38;5;241;43m.\u001b[39;49m\u001b[43mcolumns\u001b[49m\u001b[38;5;241;43m.\u001b[39;49m\u001b[43mget_loc\u001b[49m\u001b[43m(\u001b[49m\u001b[43mkey\u001b[49m\u001b[43m)\u001b[49m\n\u001b[0;32m   3808\u001b[0m \u001b[38;5;28;01mif\u001b[39;00m is_integer(indexer):\n\u001b[0;32m   3809\u001b[0m     indexer \u001b[38;5;241m=\u001b[39m [indexer]\n",
      "File \u001b[1;32m~\\AppData\\Local\\Programs\\Python\\Python311\\Lib\\site-packages\\pandas\\core\\indexes\\base.py:3804\u001b[0m, in \u001b[0;36mIndex.get_loc\u001b[1;34m(self, key, method, tolerance)\u001b[0m\n\u001b[0;32m   3802\u001b[0m     \u001b[38;5;28;01mreturn\u001b[39;00m \u001b[38;5;28mself\u001b[39m\u001b[38;5;241m.\u001b[39m_engine\u001b[38;5;241m.\u001b[39mget_loc(casted_key)\n\u001b[0;32m   3803\u001b[0m \u001b[38;5;28;01mexcept\u001b[39;00m \u001b[38;5;167;01mKeyError\u001b[39;00m \u001b[38;5;28;01mas\u001b[39;00m err:\n\u001b[1;32m-> 3804\u001b[0m     \u001b[38;5;28;01mraise\u001b[39;00m \u001b[38;5;167;01mKeyError\u001b[39;00m(key) \u001b[38;5;28;01mfrom\u001b[39;00m \u001b[38;5;21;01merr\u001b[39;00m\n\u001b[0;32m   3805\u001b[0m \u001b[38;5;28;01mexcept\u001b[39;00m \u001b[38;5;167;01mTypeError\u001b[39;00m:\n\u001b[0;32m   3806\u001b[0m     \u001b[38;5;66;03m# If we have a listlike key, _check_indexing_error will raise\u001b[39;00m\n\u001b[0;32m   3807\u001b[0m     \u001b[38;5;66;03m#  InvalidIndexError. Otherwise we fall through and re-raise\u001b[39;00m\n\u001b[0;32m   3808\u001b[0m     \u001b[38;5;66;03m#  the TypeError.\u001b[39;00m\n\u001b[0;32m   3809\u001b[0m     \u001b[38;5;28mself\u001b[39m\u001b[38;5;241m.\u001b[39m_check_indexing_error(key)\n",
      "\u001b[1;31mKeyError\u001b[0m: 0"
     ]
    }
   ],
   "source": [
    "\n",
    "\n",
    "# Calculate the combined feature based on Rating and Totalratings\n",
    "df['Description'] = df['Rating'] * df['Totalratings']\n",
    "\n",
    "# Create a TF-IDF vectorizer\n",
    "tfidf = TfidfVectorizer()\n",
    "tfidf_matrix = tfidf.fit_transform(df['Description'].astype(str))\n",
    "\n",
    "# Calculate cosine similarity\n",
    "cosine_sim = linear_kernel(tfidf_matrix, tfidf_matrix)\n",
    "\n",
    "# Define a function to get item recommendations based on item similarity\n",
    "def get_item_recommendations(title, cosine_sim=cosine_sim):\n",
    "    idx = df[df['Title'] == title].index[0]\n",
    "    sim_scores = list(enumerate(cosine_sim[idx]))\n",
    "    sim_scores = sorted(sim_scores, key=lambda x: x[1], reverse=True)\n",
    "    sim_scores = sim_scores[1:11]  # Get the top 10 most similar items (excluding itself)\n",
    "    item_indices = [i[0] for i in sim_scores]\n",
    "    return df['Title'].iloc[item_indices]\n",
    "\n",
    "# Get recommendations for a specific item\n",
    "item_name = \"KC's Restaurant & Bar\"\n",
    "recommendations = get_item_recommendations(item_name)\n",
    "print(recommendations)\n",
    "\n"
   ]
  },
  {
   "cell_type": "code",
   "execution_count": null,
   "id": "d3927a79",
   "metadata": {},
   "outputs": [],
   "source": []
  }
 ],
 "metadata": {
  "kernelspec": {
   "display_name": "Python 3 (ipykernel)",
   "language": "python",
   "name": "python3"
  },
  "language_info": {
   "codemirror_mode": {
    "name": "ipython",
    "version": 3
   },
   "file_extension": ".py",
   "mimetype": "text/x-python",
   "name": "python",
   "nbconvert_exporter": "python",
   "pygments_lexer": "ipython3",
   "version": "3.11.3"
  }
 },
 "nbformat": 4,
 "nbformat_minor": 5
}
